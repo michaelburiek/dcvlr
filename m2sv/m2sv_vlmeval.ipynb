{
  "cells": [
    {
      "cell_type": "markdown",
      "id": "64a06c76",
      "metadata": {
        "id": "64a06c76"
      },
      "source": [
        "# Qwen3-VL Evaluation on m2sv Dataset\n",
        "---"
      ]
    },
    {
      "cell_type": "markdown",
      "id": "299a0f57",
      "metadata": {
        "id": "299a0f57"
      },
      "source": [
        "Clean, simple approach using HuggingFace Transformers"
      ]
    },
    {
      "cell_type": "markdown",
      "id": "670128cf",
      "metadata": {
        "id": "670128cf"
      },
      "source": [
        "## Table of Contents:\n",
        "---\n",
        "0. [Dependencies | Imports | Configuration]()\n",
        "1. [Load Model]()\n",
        "2. [Load Dataset]()\n",
        "3. [Run Evaluation]()\n",
        "4. [Analyze & Save Results]()"
      ]
    },
    {
      "cell_type": "markdown",
      "id": "yOh94_P82Av8",
      "metadata": {
        "id": "yOh94_P82Av8"
      },
      "source": [
        "### 0. Dependencies | Imports | Configuration\n",
        "---"
      ]
    },
    {
      "cell_type": "code",
      "execution_count": null,
      "id": "UKC0ah4oznbt",
      "metadata": {
        "id": "UKC0ah4oznbt"
      },
      "outputs": [],
      "source": [
        "%%capture\n",
        "%pip install -U transformers accelerate datasets pillow torch torchvision"
      ]
    },
    {
      "cell_type": "code",
      "execution_count": 11,
      "id": "HDWhb4Lezql0",
      "metadata": {
        "id": "HDWhb4Lezql0"
      },
      "outputs": [],
      "source": [
        "import gc\n",
        "import json\n",
        "import torch\n",
        "import pandas as pd\n",
        "from PIL import Image\n",
        "from tqdm.auto import tqdm\n",
        "from datetime import datetime\n",
        "from datasets import load_dataset\n",
        "from transformers import Qwen3VLForConditionalGeneration, AutoProcessor"
      ]
    },
    {
      "cell_type": "code",
      "execution_count": 12,
      "id": "_MXQY1is2Tfx",
      "metadata": {
        "colab": {
          "base_uri": "https://localhost:8080/"
        },
        "id": "_MXQY1is2Tfx",
        "outputId": "201f20dc-c6a5-4ba3-aea3-08f6d69e1930"
      },
      "outputs": [
        {
          "name": "stdout",
          "output_type": "stream",
          "text": [
            "\n",
            "Configuration:\n",
            "   Model: Qwen/Qwen3-VL-4B-Instruct\n",
            "   Dataset: yosubshin/m2sv\n",
            "   Device: cuda\n"
          ]
        }
      ],
      "source": [
        "CONFIG = {\n",
        "    \"model_name\": \"Qwen/Qwen3-VL-4B-Instruct\",\n",
        "    \"dataset_name\": \"yosubshin/m2sv\",\n",
        "    \"split\": \"train\",\n",
        "    \"max_new_tokens\": 128,\n",
        "    \"temperature\": 0.1,\n",
        "    \"output_dir\": \"./qwen3_eval_results\",\n",
        "    \"save_predictions\": True,\n",
        "}\n",
        "\n",
        "print(f\"\\nConfiguration:\")\n",
        "print(f\"   Model: {CONFIG['model_name']}\")\n",
        "print(f\"   Dataset: {CONFIG['dataset_name']}\")\n",
        "print(f\"   Device: {'cuda' if torch.cuda.is_available() else 'cpu'}\")"
      ]
    },
    {
      "cell_type": "markdown",
      "id": "-4rnbOJH2kC3",
      "metadata": {
        "id": "-4rnbOJH2kC3"
      },
      "source": [
        "### 1. Load Model\n",
        "---"
      ]
    },
    {
      "cell_type": "code",
      "execution_count": 13,
      "id": "W4Y4On2r2V_S",
      "metadata": {
        "colab": {
          "base_uri": "https://localhost:8080/",
          "height": 153,
          "referenced_widgets": [
            "e309ff1a3f824db596a648b8517bd5f3",
            "ac14ff62f894455fb43d366c3e91c522",
            "95552f60ce4e48c58c036ee74ee75183",
            "4e3e149082d24dfc8b913cbca7e89d36",
            "f3836bb275c647c9a4c2ac9c0c323059",
            "ee03cddcd33c421fb9ca5d74e55f3e02",
            "8da0f4f5dcd54e42b0f70b66d0d35733",
            "0ab3993a0ac34ab2a80e2fe167dcd0aa",
            "3b4562fc85834ae7a7ca91d7279f517f",
            "18441573015549368e666a1718222c49",
            "269c58e3ffd548ef8d203349b7b5a2be"
          ]
        },
        "id": "W4Y4On2r2V_S",
        "outputId": "ce5095b5-2b5d-41a3-bb42-b3d51dcf46c1"
      },
      "outputs": [
        {
          "name": "stdout",
          "output_type": "stream",
          "text": [
            "\n",
            "[1/4] Loading Qwen3-VL model...\n",
            "   Model: Qwen/Qwen3-VL-4B-Instruct\n"
          ]
        },
        {
          "data": {
            "application/vnd.jupyter.widget-view+json": {
              "model_id": "e309ff1a3f824db596a648b8517bd5f3",
              "version_major": 2,
              "version_minor": 0
            },
            "text/plain": [
              "Loading checkpoint shards:   0%|          | 0/2 [00:00<?, ?it/s]"
            ]
          },
          "metadata": {},
          "output_type": "display_data"
        },
        {
          "name": "stdout",
          "output_type": "stream",
          "text": [
            "Model loaded successfully\n",
            "   Parameters: 4.44B\n",
            "   Device: cuda\n"
          ]
        }
      ],
      "source": [
        "print(f\"\\n[1/4] Loading Qwen3-VL model...\")\n",
        "print(f\"   Model: {CONFIG['model_name']}\")\n",
        "\n",
        "device = \"cuda\" if torch.cuda.is_available() else \"cpu\"\n",
        "\n",
        "model = Qwen3VLForConditionalGeneration.from_pretrained(\n",
        "    CONFIG['model_name'],\n",
        "    dtype=torch.float16 if device == \"cuda\" else torch.float32,\n",
        "    device_map=\"auto\",\n",
        ")\n",
        "\n",
        "processor = AutoProcessor.from_pretrained(CONFIG['model_name'])\n",
        "\n",
        "print(f\"Model loaded successfully\")\n",
        "print(f\"   Parameters: {sum(p.numel() for p in model.parameters()) / 1e9:.2f}B\")\n",
        "print(f\"   Device: {device}\")"
      ]
    },
    {
      "cell_type": "markdown",
      "id": "oMcsGEBu2m3F",
      "metadata": {
        "id": "oMcsGEBu2m3F"
      },
      "source": [
        "### 2. Load Dataset\n",
        "---"
      ]
    },
    {
      "cell_type": "code",
      "execution_count": 17,
      "id": "7MOXGnox2XKa",
      "metadata": {
        "colab": {
          "base_uri": "https://localhost:8080/"
        },
        "id": "7MOXGnox2XKa",
        "outputId": "a560eaf9-ebda-409f-d1eb-ae1c4a35b567"
      },
      "outputs": [
        {
          "name": "stdout",
          "output_type": "stream",
          "text": [
            "\n",
            "[2/4] Loading m2sv dataset...\n",
            "Loaded 100 samples\n",
            "\n",
            "Sample question:\n",
            "  Q: Which labeled direction on the map corresponds to the direction in which the street view photo was taken?\n",
            "  Options: ['A', 'B', 'C']\n",
            "  Answer: C\n"
          ]
        }
      ],
      "source": [
        "print(f\"\\n[2/4] Loading m2sv dataset...\")\n",
        "\n",
        "dataset = load_dataset(CONFIG['dataset_name'], split=CONFIG['split'])\n",
        "print(f\"Loaded {len(dataset)} samples\")\n",
        "\n",
        "sample = dataset[0]\n",
        "print(f\"\\nSample question:\")\n",
        "print(f\"  Q: {sample['question']}\")\n",
        "print(f\"  Options: {sample['options']}\")\n",
        "print(f\"  Answer: {sample['answer']}\")"
      ]
    },
    {
      "cell_type": "markdown",
      "id": "YYyeU-Ad2pCJ",
      "metadata": {
        "id": "YYyeU-Ad2pCJ"
      },
      "source": [
        "### 3. Run Evaluation\n",
        "---"
      ]
    },
    {
      "cell_type": "code",
      "execution_count": 15,
      "id": "P8dPQWQ-2ZIs",
      "metadata": {
        "colab": {
          "base_uri": "https://localhost:8080/",
          "height": 84,
          "referenced_widgets": [
            "2574c3420cda41558cf311e83fc76df1",
            "f1f6b5617d004958ae002b66e774adfa",
            "c142fb597b434d01b063bfaf4c94d35b",
            "92c77e9b49204ac7bd95af6667897418",
            "b98c775107e641f6b87c625e415a9da5",
            "0201bab585614aabb56392b62ab733d6",
            "e12568bd53ed4a95bc3ff2b3c3a5f77b",
            "3e804d9342704980bfa81295abc3f413",
            "e51fd7f737714466bc2c2039b5eef883",
            "d25d983bccf24752841f5211a9e73b98",
            "ed75a97eb30c4565b7d1587ffbdd411e"
          ]
        },
        "id": "P8dPQWQ-2ZIs",
        "outputId": "0480b06f-791a-4da9-dac2-3b25cd65a0d6"
      },
      "outputs": [
        {
          "name": "stdout",
          "output_type": "stream",
          "text": [
            "\n",
            "[3/4] Running evaluation...\n"
          ]
        },
        {
          "data": {
            "application/vnd.jupyter.widget-view+json": {
              "model_id": "2574c3420cda41558cf311e83fc76df1",
              "version_major": 2,
              "version_minor": 0
            },
            "text/plain": [
              "Evaluating:   0%|          | 0/100 [00:00<?, ?it/s]"
            ]
          },
          "metadata": {},
          "output_type": "display_data"
        }
      ],
      "source": [
        "print(f\"\\n[3/4] Running evaluation...\")\n",
        "\n",
        "def format_prompt(question, options):\n",
        "    \"\"\"Format the question with options for the model\"\"\"\n",
        "    prompt = f\"{question}\\n\\n\"\n",
        "    prompt += \"Options:\\n\"\n",
        "    for opt in options:\n",
        "        prompt += f\"{opt}\\n\"\n",
        "    prompt += \"\\nProvide only the letter of the correct answer (A, B, C, or D).\"\n",
        "    return prompt\n",
        "\n",
        "def extract_answer(response):\n",
        "    \"\"\"Extract the answer letter from model response\"\"\"\n",
        "    response = response.strip().upper()\n",
        "\n",
        "    # First try to find single letter\n",
        "    for char in ['A', 'B', 'C', 'D']:\n",
        "        if char in response:\n",
        "            return char\n",
        "\n",
        "    return response[0] if response else \"\"\n",
        "\n",
        "results = []\n",
        "correct = 0\n",
        "total = len(dataset)\n",
        "\n",
        "# Create progress bar\n",
        "pbar = tqdm(dataset, desc=\"Evaluating\", total=total)\n",
        "\n",
        "for idx, item in enumerate(pbar):\n",
        "    try:\n",
        "        # Format prompt\n",
        "        prompt = format_prompt(item['question'], item['options'])\n",
        "\n",
        "        # Prepare messages in Qwen3-VL format\n",
        "        messages = [\n",
        "            {\n",
        "                \"role\": \"user\",\n",
        "                \"content\": [\n",
        "                    {\"type\": \"image\", \"image\": item['image_sv']},\n",
        "                    {\"type\": \"text\", \"text\": prompt},\n",
        "                ],\n",
        "            }\n",
        "        ]\n",
        "\n",
        "        # Process with Qwen3-VL API\n",
        "        inputs = processor.apply_chat_template(\n",
        "            messages,\n",
        "            tokenize=True,\n",
        "            add_generation_prompt=True,\n",
        "            return_dict=True,\n",
        "            return_tensors=\"pt\"\n",
        "        ).to(device)\n",
        "\n",
        "        # Generate\n",
        "        with torch.no_grad():\n",
        "            outputs = model.generate(\n",
        "                **inputs,\n",
        "                max_new_tokens=CONFIG['max_new_tokens'],\n",
        "                temperature=CONFIG['temperature'],\n",
        "            )\n",
        "\n",
        "        # Decode response - trim the input tokens\n",
        "        generated_ids_trimmed = [\n",
        "            out_ids[len(in_ids):]\n",
        "            for in_ids, out_ids in zip(inputs['input_ids'], outputs)\n",
        "        ]\n",
        "\n",
        "        response = processor.batch_decode(\n",
        "            generated_ids_trimmed,\n",
        "            skip_special_tokens=True,\n",
        "            clean_up_tokenization_spaces=False\n",
        "        )[0]\n",
        "\n",
        "        # Extract answer\n",
        "        prediction = extract_answer(response)\n",
        "        ground_truth = item['answer']\n",
        "        is_correct = prediction == ground_truth\n",
        "\n",
        "        if is_correct:\n",
        "            correct += 1\n",
        "\n",
        "        # Store result\n",
        "        results.append({\n",
        "            'id': item['id'],\n",
        "            'question': item['question'],\n",
        "            'options': item['options'],\n",
        "            'ground_truth': ground_truth,\n",
        "            'prediction': prediction,\n",
        "            'raw_response': response,\n",
        "            'correct': is_correct,\n",
        "        })\n",
        "\n",
        "        # Update progress bar\n",
        "        accuracy = correct / (idx + 1)\n",
        "        pbar.set_postfix({'accuracy': f'{accuracy:.2%}'})\n",
        "\n",
        "        # Free memory periodically\n",
        "        if (idx + 1) % 10 == 0:\n",
        "            gc.collect()\n",
        "            if device == \"cuda\":\n",
        "                torch.cuda.empty_cache()\n",
        "\n",
        "    except Exception as e:\n",
        "        print(f\"\\n⚠ Error on sample {idx}: {e}\")\n",
        "        import traceback\n",
        "        traceback.print_exc()\n",
        "\n",
        "        results.append({\n",
        "            'id': item['id'],\n",
        "            'question': item['question'],\n",
        "            'options': item['options'],\n",
        "            'ground_truth': item['answer'],\n",
        "            'prediction': 'ERROR',\n",
        "            'raw_response': str(e),\n",
        "            'correct': False,\n",
        "        })\n",
        "\n",
        "pbar.close()"
      ]
    },
    {
      "cell_type": "markdown",
      "id": "8FTI0aBN2rmE",
      "metadata": {
        "id": "8FTI0aBN2rmE"
      },
      "source": [
        "### 4. Analyze & Save Results\n",
        "---"
      ]
    },
    {
      "cell_type": "code",
      "execution_count": 16,
      "id": "0KkIenhLzk7C",
      "metadata": {
        "colab": {
          "base_uri": "https://localhost:8080/"
        },
        "id": "0KkIenhLzk7C",
        "outputId": "6694567a-d6d5-4357-efc7-3b73861073fd"
      },
      "outputs": [
        {
          "name": "stdout",
          "output_type": "stream",
          "text": [
            "\n",
            "[4/4] Analysis and results...\n",
            "\n",
            "====================================================================================================\n",
            "EVALUATION RESULTS\n",
            "====================================================================================================\n",
            "Model: Qwen/Qwen3-VL-4B-Instruct\n",
            "Dataset: yosubshin/m2sv (train split)\n",
            "Total samples: 100\n",
            "Correct: 36\n",
            "Incorrect: 64\n",
            "Accuracy: 36.00%\n",
            "====================================================================================================\n",
            "\n",
            "✓ Sample Correct Predictions:\n",
            "\n",
            "Q: Which labeled direction on the map corresponds to the direction in which the str...\n",
            "   GT: A | Pred: A\n",
            "   Response: A\n",
            "\n",
            "Q: Which labeled direction on the map corresponds to the direction in which the str...\n",
            "   GT: A | Pred: A\n",
            "   Response: A\n",
            "\n",
            "Q: Which labeled direction on the map corresponds to the direction in which the str...\n",
            "   GT: A | Pred: A\n",
            "   Response: A\n",
            "\n",
            "✗ Sample Incorrect Predictions:\n",
            "\n",
            "Q: Which labeled direction on the map corresponds to the direction in which the str...\n",
            "   GT: C | Pred: A\n",
            "   Response: A\n",
            "\n",
            "Q: Which labeled direction on the map corresponds to the direction in which the str...\n",
            "   GT: C | Pred: A\n",
            "   Response: A\n",
            "\n",
            "Q: Which labeled direction on the map corresponds to the direction in which the str...\n",
            "   GT: C | Pred: A\n",
            "   Response: A\n",
            "\n",
            "Saved predictions to: ./qwen3_eval_results/predictions.csv\n",
            "✓ Saved summary to: ./qwen3_eval_results/summary.json\n",
            "\n",
            "====================================================================================================\n",
            "Evaluation complete!\n",
            "====================================================================================================\n"
          ]
        }
      ],
      "source": [
        "print(f\"\\n[4/4] Analysis and results...\")\n",
        "\n",
        "# Calculate metrics\n",
        "accuracy = correct / total\n",
        "results_df = pd.DataFrame(results)\n",
        "\n",
        "# Print summary\n",
        "print(\"\\n\" + \"=\" * 100)\n",
        "print(\"EVALUATION RESULTS\")\n",
        "print(\"=\" * 100)\n",
        "print(f\"Model: {CONFIG['model_name']}\")\n",
        "print(f\"Dataset: {CONFIG['dataset_name']} ({CONFIG['split']} split)\")\n",
        "print(f\"Total samples: {total}\")\n",
        "print(f\"Correct: {correct}\")\n",
        "print(f\"Incorrect: {total - correct}\")\n",
        "print(f\"Accuracy: {accuracy:.2%}\")\n",
        "print(\"=\" * 100)\n",
        "\n",
        "# Show examples\n",
        "print(\"\\n✓ Sample Correct Predictions:\")\n",
        "correct_samples = results_df[results_df['correct'] == True].head(3)\n",
        "for _, row in correct_samples.iterrows():\n",
        "    print(f\"\\nQ: {row['question'][:80]}...\")\n",
        "    print(f\"   GT: {row['ground_truth']} | Pred: {row['prediction']}\")\n",
        "    print(f\"   Response: {row['raw_response'][:100]}\")\n",
        "\n",
        "print(\"\\n✗ Sample Incorrect Predictions:\")\n",
        "incorrect_samples = results_df[results_df['correct'] == False].head(3)\n",
        "for _, row in incorrect_samples.iterrows():\n",
        "    print(f\"\\nQ: {row['question'][:80]}...\")\n",
        "    print(f\"   GT: {row['ground_truth']} | Pred: {row['prediction']}\")\n",
        "    print(f\"   Response: {row['raw_response'][:100]}\")\n",
        "\n",
        "# Save results\n",
        "if CONFIG['save_predictions']:\n",
        "    import os\n",
        "    os.makedirs(CONFIG['output_dir'], exist_ok=True)\n",
        "\n",
        "    # Save detailed results\n",
        "    results_path = f\"{CONFIG['output_dir']}/predictions.csv\"\n",
        "    results_df.to_csv(results_path, index=False)\n",
        "    print(f\"\\nSaved predictions to: {results_path}\")\n",
        "\n",
        "    # Save summary\n",
        "    summary = {\n",
        "        'model': CONFIG['model_name'],\n",
        "        'dataset': CONFIG['dataset_name'],\n",
        "        'split': CONFIG['split'],\n",
        "        'total_samples': total,\n",
        "        'correct': correct,\n",
        "        'incorrect': total - correct,\n",
        "        'accuracy': float(accuracy),\n",
        "        'timestamp': datetime.now().isoformat(),\n",
        "        'config': CONFIG,\n",
        "    }\n",
        "\n",
        "    summary_path = f\"{CONFIG['output_dir']}/summary.json\"\n",
        "    with open(summary_path, 'w') as f:\n",
        "        json.dump(summary, f, indent=2)\n",
        "    print(f\"✓ Saved summary to: {summary_path}\")\n",
        "\n",
        "print(\"\\n\" + \"=\" * 100)\n",
        "print(\"Evaluation complete!\")\n",
        "print(\"=\" * 100)\n",
        "\n",
        "# Free memory\n",
        "del model\n",
        "del processor\n",
        "gc.collect()\n",
        "if device == \"cuda\":\n",
        "    torch.cuda.empty_cache()"
      ]
    }
  ],
  "metadata": {
    "accelerator": "GPU",
    "colab": {
      "collapsed_sections": [
        "yOh94_P82Av8",
        "-4rnbOJH2kC3",
        "oMcsGEBu2m3F",
        "YYyeU-Ad2pCJ",
        "8FTI0aBN2rmE"
      ],
      "gpuType": "A100",
      "machine_shape": "hm",
      "provenance": []
    },
    "kernelspec": {
      "display_name": "Python 3",
      "name": "python3"
    },
    "language_info": {
      "codemirror_mode": {
        "name": "ipython",
        "version": 3
      },
      "file_extension": ".py",
      "mimetype": "text/x-python",
      "name": "python",
      "nbconvert_exporter": "python",
      "pygments_lexer": "ipython3",
      "version": "3.11.13"
    },
    "widgets": {
      "application/vnd.jupyter.widget-state+json": {
        "0201bab585614aabb56392b62ab733d6": {
          "model_module": "@jupyter-widgets/base",
          "model_module_version": "1.2.0",
          "model_name": "LayoutModel",
          "state": {
            "_model_module": "@jupyter-widgets/base",
            "_model_module_version": "1.2.0",
            "_model_name": "LayoutModel",
            "_view_count": null,
            "_view_module": "@jupyter-widgets/base",
            "_view_module_version": "1.2.0",
            "_view_name": "LayoutView",
            "align_content": null,
            "align_items": null,
            "align_self": null,
            "border": null,
            "bottom": null,
            "display": null,
            "flex": null,
            "flex_flow": null,
            "grid_area": null,
            "grid_auto_columns": null,
            "grid_auto_flow": null,
            "grid_auto_rows": null,
            "grid_column": null,
            "grid_gap": null,
            "grid_row": null,
            "grid_template_areas": null,
            "grid_template_columns": null,
            "grid_template_rows": null,
            "height": null,
            "justify_content": null,
            "justify_items": null,
            "left": null,
            "margin": null,
            "max_height": null,
            "max_width": null,
            "min_height": null,
            "min_width": null,
            "object_fit": null,
            "object_position": null,
            "order": null,
            "overflow": null,
            "overflow_x": null,
            "overflow_y": null,
            "padding": null,
            "right": null,
            "top": null,
            "visibility": null,
            "width": null
          }
        },
        "0ab3993a0ac34ab2a80e2fe167dcd0aa": {
          "model_module": "@jupyter-widgets/base",
          "model_module_version": "1.2.0",
          "model_name": "LayoutModel",
          "state": {
            "_model_module": "@jupyter-widgets/base",
            "_model_module_version": "1.2.0",
            "_model_name": "LayoutModel",
            "_view_count": null,
            "_view_module": "@jupyter-widgets/base",
            "_view_module_version": "1.2.0",
            "_view_name": "LayoutView",
            "align_content": null,
            "align_items": null,
            "align_self": null,
            "border": null,
            "bottom": null,
            "display": null,
            "flex": null,
            "flex_flow": null,
            "grid_area": null,
            "grid_auto_columns": null,
            "grid_auto_flow": null,
            "grid_auto_rows": null,
            "grid_column": null,
            "grid_gap": null,
            "grid_row": null,
            "grid_template_areas": null,
            "grid_template_columns": null,
            "grid_template_rows": null,
            "height": null,
            "justify_content": null,
            "justify_items": null,
            "left": null,
            "margin": null,
            "max_height": null,
            "max_width": null,
            "min_height": null,
            "min_width": null,
            "object_fit": null,
            "object_position": null,
            "order": null,
            "overflow": null,
            "overflow_x": null,
            "overflow_y": null,
            "padding": null,
            "right": null,
            "top": null,
            "visibility": null,
            "width": null
          }
        },
        "18441573015549368e666a1718222c49": {
          "model_module": "@jupyter-widgets/base",
          "model_module_version": "1.2.0",
          "model_name": "LayoutModel",
          "state": {
            "_model_module": "@jupyter-widgets/base",
            "_model_module_version": "1.2.0",
            "_model_name": "LayoutModel",
            "_view_count": null,
            "_view_module": "@jupyter-widgets/base",
            "_view_module_version": "1.2.0",
            "_view_name": "LayoutView",
            "align_content": null,
            "align_items": null,
            "align_self": null,
            "border": null,
            "bottom": null,
            "display": null,
            "flex": null,
            "flex_flow": null,
            "grid_area": null,
            "grid_auto_columns": null,
            "grid_auto_flow": null,
            "grid_auto_rows": null,
            "grid_column": null,
            "grid_gap": null,
            "grid_row": null,
            "grid_template_areas": null,
            "grid_template_columns": null,
            "grid_template_rows": null,
            "height": null,
            "justify_content": null,
            "justify_items": null,
            "left": null,
            "margin": null,
            "max_height": null,
            "max_width": null,
            "min_height": null,
            "min_width": null,
            "object_fit": null,
            "object_position": null,
            "order": null,
            "overflow": null,
            "overflow_x": null,
            "overflow_y": null,
            "padding": null,
            "right": null,
            "top": null,
            "visibility": null,
            "width": null
          }
        },
        "2574c3420cda41558cf311e83fc76df1": {
          "model_module": "@jupyter-widgets/controls",
          "model_module_version": "1.5.0",
          "model_name": "HBoxModel",
          "state": {
            "_dom_classes": [],
            "_model_module": "@jupyter-widgets/controls",
            "_model_module_version": "1.5.0",
            "_model_name": "HBoxModel",
            "_view_count": null,
            "_view_module": "@jupyter-widgets/controls",
            "_view_module_version": "1.5.0",
            "_view_name": "HBoxView",
            "box_style": "",
            "children": [
              "IPY_MODEL_f1f6b5617d004958ae002b66e774adfa",
              "IPY_MODEL_c142fb597b434d01b063bfaf4c94d35b",
              "IPY_MODEL_92c77e9b49204ac7bd95af6667897418"
            ],
            "layout": "IPY_MODEL_b98c775107e641f6b87c625e415a9da5"
          }
        },
        "269c58e3ffd548ef8d203349b7b5a2be": {
          "model_module": "@jupyter-widgets/controls",
          "model_module_version": "1.5.0",
          "model_name": "DescriptionStyleModel",
          "state": {
            "_model_module": "@jupyter-widgets/controls",
            "_model_module_version": "1.5.0",
            "_model_name": "DescriptionStyleModel",
            "_view_count": null,
            "_view_module": "@jupyter-widgets/base",
            "_view_module_version": "1.2.0",
            "_view_name": "StyleView",
            "description_width": ""
          }
        },
        "3b4562fc85834ae7a7ca91d7279f517f": {
          "model_module": "@jupyter-widgets/controls",
          "model_module_version": "1.5.0",
          "model_name": "ProgressStyleModel",
          "state": {
            "_model_module": "@jupyter-widgets/controls",
            "_model_module_version": "1.5.0",
            "_model_name": "ProgressStyleModel",
            "_view_count": null,
            "_view_module": "@jupyter-widgets/base",
            "_view_module_version": "1.2.0",
            "_view_name": "StyleView",
            "bar_color": null,
            "description_width": ""
          }
        },
        "3e804d9342704980bfa81295abc3f413": {
          "model_module": "@jupyter-widgets/base",
          "model_module_version": "1.2.0",
          "model_name": "LayoutModel",
          "state": {
            "_model_module": "@jupyter-widgets/base",
            "_model_module_version": "1.2.0",
            "_model_name": "LayoutModel",
            "_view_count": null,
            "_view_module": "@jupyter-widgets/base",
            "_view_module_version": "1.2.0",
            "_view_name": "LayoutView",
            "align_content": null,
            "align_items": null,
            "align_self": null,
            "border": null,
            "bottom": null,
            "display": null,
            "flex": null,
            "flex_flow": null,
            "grid_area": null,
            "grid_auto_columns": null,
            "grid_auto_flow": null,
            "grid_auto_rows": null,
            "grid_column": null,
            "grid_gap": null,
            "grid_row": null,
            "grid_template_areas": null,
            "grid_template_columns": null,
            "grid_template_rows": null,
            "height": null,
            "justify_content": null,
            "justify_items": null,
            "left": null,
            "margin": null,
            "max_height": null,
            "max_width": null,
            "min_height": null,
            "min_width": null,
            "object_fit": null,
            "object_position": null,
            "order": null,
            "overflow": null,
            "overflow_x": null,
            "overflow_y": null,
            "padding": null,
            "right": null,
            "top": null,
            "visibility": null,
            "width": null
          }
        },
        "4e3e149082d24dfc8b913cbca7e89d36": {
          "model_module": "@jupyter-widgets/controls",
          "model_module_version": "1.5.0",
          "model_name": "HTMLModel",
          "state": {
            "_dom_classes": [],
            "_model_module": "@jupyter-widgets/controls",
            "_model_module_version": "1.5.0",
            "_model_name": "HTMLModel",
            "_view_count": null,
            "_view_module": "@jupyter-widgets/controls",
            "_view_module_version": "1.5.0",
            "_view_name": "HTMLView",
            "description": "",
            "description_tooltip": null,
            "layout": "IPY_MODEL_18441573015549368e666a1718222c49",
            "placeholder": "​",
            "style": "IPY_MODEL_269c58e3ffd548ef8d203349b7b5a2be",
            "value": " 2/2 [00:02&lt;00:00,  1.46s/it]"
          }
        },
        "8da0f4f5dcd54e42b0f70b66d0d35733": {
          "model_module": "@jupyter-widgets/controls",
          "model_module_version": "1.5.0",
          "model_name": "DescriptionStyleModel",
          "state": {
            "_model_module": "@jupyter-widgets/controls",
            "_model_module_version": "1.5.0",
            "_model_name": "DescriptionStyleModel",
            "_view_count": null,
            "_view_module": "@jupyter-widgets/base",
            "_view_module_version": "1.2.0",
            "_view_name": "StyleView",
            "description_width": ""
          }
        },
        "92c77e9b49204ac7bd95af6667897418": {
          "model_module": "@jupyter-widgets/controls",
          "model_module_version": "1.5.0",
          "model_name": "HTMLModel",
          "state": {
            "_dom_classes": [],
            "_model_module": "@jupyter-widgets/controls",
            "_model_module_version": "1.5.0",
            "_model_name": "HTMLModel",
            "_view_count": null,
            "_view_module": "@jupyter-widgets/controls",
            "_view_module_version": "1.5.0",
            "_view_name": "HTMLView",
            "description": "",
            "description_tooltip": null,
            "layout": "IPY_MODEL_d25d983bccf24752841f5211a9e73b98",
            "placeholder": "​",
            "style": "IPY_MODEL_ed75a97eb30c4565b7d1587ffbdd411e",
            "value": " 100/100 [00:21&lt;00:00,  3.31it/s, accuracy=36.00%]"
          }
        },
        "95552f60ce4e48c58c036ee74ee75183": {
          "model_module": "@jupyter-widgets/controls",
          "model_module_version": "1.5.0",
          "model_name": "FloatProgressModel",
          "state": {
            "_dom_classes": [],
            "_model_module": "@jupyter-widgets/controls",
            "_model_module_version": "1.5.0",
            "_model_name": "FloatProgressModel",
            "_view_count": null,
            "_view_module": "@jupyter-widgets/controls",
            "_view_module_version": "1.5.0",
            "_view_name": "ProgressView",
            "bar_style": "success",
            "description": "",
            "description_tooltip": null,
            "layout": "IPY_MODEL_0ab3993a0ac34ab2a80e2fe167dcd0aa",
            "max": 2,
            "min": 0,
            "orientation": "horizontal",
            "style": "IPY_MODEL_3b4562fc85834ae7a7ca91d7279f517f",
            "value": 2
          }
        },
        "ac14ff62f894455fb43d366c3e91c522": {
          "model_module": "@jupyter-widgets/controls",
          "model_module_version": "1.5.0",
          "model_name": "HTMLModel",
          "state": {
            "_dom_classes": [],
            "_model_module": "@jupyter-widgets/controls",
            "_model_module_version": "1.5.0",
            "_model_name": "HTMLModel",
            "_view_count": null,
            "_view_module": "@jupyter-widgets/controls",
            "_view_module_version": "1.5.0",
            "_view_name": "HTMLView",
            "description": "",
            "description_tooltip": null,
            "layout": "IPY_MODEL_ee03cddcd33c421fb9ca5d74e55f3e02",
            "placeholder": "​",
            "style": "IPY_MODEL_8da0f4f5dcd54e42b0f70b66d0d35733",
            "value": "Loading checkpoint shards: 100%"
          }
        },
        "b98c775107e641f6b87c625e415a9da5": {
          "model_module": "@jupyter-widgets/base",
          "model_module_version": "1.2.0",
          "model_name": "LayoutModel",
          "state": {
            "_model_module": "@jupyter-widgets/base",
            "_model_module_version": "1.2.0",
            "_model_name": "LayoutModel",
            "_view_count": null,
            "_view_module": "@jupyter-widgets/base",
            "_view_module_version": "1.2.0",
            "_view_name": "LayoutView",
            "align_content": null,
            "align_items": null,
            "align_self": null,
            "border": null,
            "bottom": null,
            "display": null,
            "flex": null,
            "flex_flow": null,
            "grid_area": null,
            "grid_auto_columns": null,
            "grid_auto_flow": null,
            "grid_auto_rows": null,
            "grid_column": null,
            "grid_gap": null,
            "grid_row": null,
            "grid_template_areas": null,
            "grid_template_columns": null,
            "grid_template_rows": null,
            "height": null,
            "justify_content": null,
            "justify_items": null,
            "left": null,
            "margin": null,
            "max_height": null,
            "max_width": null,
            "min_height": null,
            "min_width": null,
            "object_fit": null,
            "object_position": null,
            "order": null,
            "overflow": null,
            "overflow_x": null,
            "overflow_y": null,
            "padding": null,
            "right": null,
            "top": null,
            "visibility": null,
            "width": null
          }
        },
        "c142fb597b434d01b063bfaf4c94d35b": {
          "model_module": "@jupyter-widgets/controls",
          "model_module_version": "1.5.0",
          "model_name": "FloatProgressModel",
          "state": {
            "_dom_classes": [],
            "_model_module": "@jupyter-widgets/controls",
            "_model_module_version": "1.5.0",
            "_model_name": "FloatProgressModel",
            "_view_count": null,
            "_view_module": "@jupyter-widgets/controls",
            "_view_module_version": "1.5.0",
            "_view_name": "ProgressView",
            "bar_style": "success",
            "description": "",
            "description_tooltip": null,
            "layout": "IPY_MODEL_3e804d9342704980bfa81295abc3f413",
            "max": 100,
            "min": 0,
            "orientation": "horizontal",
            "style": "IPY_MODEL_e51fd7f737714466bc2c2039b5eef883",
            "value": 100
          }
        },
        "d25d983bccf24752841f5211a9e73b98": {
          "model_module": "@jupyter-widgets/base",
          "model_module_version": "1.2.0",
          "model_name": "LayoutModel",
          "state": {
            "_model_module": "@jupyter-widgets/base",
            "_model_module_version": "1.2.0",
            "_model_name": "LayoutModel",
            "_view_count": null,
            "_view_module": "@jupyter-widgets/base",
            "_view_module_version": "1.2.0",
            "_view_name": "LayoutView",
            "align_content": null,
            "align_items": null,
            "align_self": null,
            "border": null,
            "bottom": null,
            "display": null,
            "flex": null,
            "flex_flow": null,
            "grid_area": null,
            "grid_auto_columns": null,
            "grid_auto_flow": null,
            "grid_auto_rows": null,
            "grid_column": null,
            "grid_gap": null,
            "grid_row": null,
            "grid_template_areas": null,
            "grid_template_columns": null,
            "grid_template_rows": null,
            "height": null,
            "justify_content": null,
            "justify_items": null,
            "left": null,
            "margin": null,
            "max_height": null,
            "max_width": null,
            "min_height": null,
            "min_width": null,
            "object_fit": null,
            "object_position": null,
            "order": null,
            "overflow": null,
            "overflow_x": null,
            "overflow_y": null,
            "padding": null,
            "right": null,
            "top": null,
            "visibility": null,
            "width": null
          }
        },
        "e12568bd53ed4a95bc3ff2b3c3a5f77b": {
          "model_module": "@jupyter-widgets/controls",
          "model_module_version": "1.5.0",
          "model_name": "DescriptionStyleModel",
          "state": {
            "_model_module": "@jupyter-widgets/controls",
            "_model_module_version": "1.5.0",
            "_model_name": "DescriptionStyleModel",
            "_view_count": null,
            "_view_module": "@jupyter-widgets/base",
            "_view_module_version": "1.2.0",
            "_view_name": "StyleView",
            "description_width": ""
          }
        },
        "e309ff1a3f824db596a648b8517bd5f3": {
          "model_module": "@jupyter-widgets/controls",
          "model_module_version": "1.5.0",
          "model_name": "HBoxModel",
          "state": {
            "_dom_classes": [],
            "_model_module": "@jupyter-widgets/controls",
            "_model_module_version": "1.5.0",
            "_model_name": "HBoxModel",
            "_view_count": null,
            "_view_module": "@jupyter-widgets/controls",
            "_view_module_version": "1.5.0",
            "_view_name": "HBoxView",
            "box_style": "",
            "children": [
              "IPY_MODEL_ac14ff62f894455fb43d366c3e91c522",
              "IPY_MODEL_95552f60ce4e48c58c036ee74ee75183",
              "IPY_MODEL_4e3e149082d24dfc8b913cbca7e89d36"
            ],
            "layout": "IPY_MODEL_f3836bb275c647c9a4c2ac9c0c323059"
          }
        },
        "e51fd7f737714466bc2c2039b5eef883": {
          "model_module": "@jupyter-widgets/controls",
          "model_module_version": "1.5.0",
          "model_name": "ProgressStyleModel",
          "state": {
            "_model_module": "@jupyter-widgets/controls",
            "_model_module_version": "1.5.0",
            "_model_name": "ProgressStyleModel",
            "_view_count": null,
            "_view_module": "@jupyter-widgets/base",
            "_view_module_version": "1.2.0",
            "_view_name": "StyleView",
            "bar_color": null,
            "description_width": ""
          }
        },
        "ed75a97eb30c4565b7d1587ffbdd411e": {
          "model_module": "@jupyter-widgets/controls",
          "model_module_version": "1.5.0",
          "model_name": "DescriptionStyleModel",
          "state": {
            "_model_module": "@jupyter-widgets/controls",
            "_model_module_version": "1.5.0",
            "_model_name": "DescriptionStyleModel",
            "_view_count": null,
            "_view_module": "@jupyter-widgets/base",
            "_view_module_version": "1.2.0",
            "_view_name": "StyleView",
            "description_width": ""
          }
        },
        "ee03cddcd33c421fb9ca5d74e55f3e02": {
          "model_module": "@jupyter-widgets/base",
          "model_module_version": "1.2.0",
          "model_name": "LayoutModel",
          "state": {
            "_model_module": "@jupyter-widgets/base",
            "_model_module_version": "1.2.0",
            "_model_name": "LayoutModel",
            "_view_count": null,
            "_view_module": "@jupyter-widgets/base",
            "_view_module_version": "1.2.0",
            "_view_name": "LayoutView",
            "align_content": null,
            "align_items": null,
            "align_self": null,
            "border": null,
            "bottom": null,
            "display": null,
            "flex": null,
            "flex_flow": null,
            "grid_area": null,
            "grid_auto_columns": null,
            "grid_auto_flow": null,
            "grid_auto_rows": null,
            "grid_column": null,
            "grid_gap": null,
            "grid_row": null,
            "grid_template_areas": null,
            "grid_template_columns": null,
            "grid_template_rows": null,
            "height": null,
            "justify_content": null,
            "justify_items": null,
            "left": null,
            "margin": null,
            "max_height": null,
            "max_width": null,
            "min_height": null,
            "min_width": null,
            "object_fit": null,
            "object_position": null,
            "order": null,
            "overflow": null,
            "overflow_x": null,
            "overflow_y": null,
            "padding": null,
            "right": null,
            "top": null,
            "visibility": null,
            "width": null
          }
        },
        "f1f6b5617d004958ae002b66e774adfa": {
          "model_module": "@jupyter-widgets/controls",
          "model_module_version": "1.5.0",
          "model_name": "HTMLModel",
          "state": {
            "_dom_classes": [],
            "_model_module": "@jupyter-widgets/controls",
            "_model_module_version": "1.5.0",
            "_model_name": "HTMLModel",
            "_view_count": null,
            "_view_module": "@jupyter-widgets/controls",
            "_view_module_version": "1.5.0",
            "_view_name": "HTMLView",
            "description": "",
            "description_tooltip": null,
            "layout": "IPY_MODEL_0201bab585614aabb56392b62ab733d6",
            "placeholder": "​",
            "style": "IPY_MODEL_e12568bd53ed4a95bc3ff2b3c3a5f77b",
            "value": "Evaluating: 100%"
          }
        },
        "f3836bb275c647c9a4c2ac9c0c323059": {
          "model_module": "@jupyter-widgets/base",
          "model_module_version": "1.2.0",
          "model_name": "LayoutModel",
          "state": {
            "_model_module": "@jupyter-widgets/base",
            "_model_module_version": "1.2.0",
            "_model_name": "LayoutModel",
            "_view_count": null,
            "_view_module": "@jupyter-widgets/base",
            "_view_module_version": "1.2.0",
            "_view_name": "LayoutView",
            "align_content": null,
            "align_items": null,
            "align_self": null,
            "border": null,
            "bottom": null,
            "display": null,
            "flex": null,
            "flex_flow": null,
            "grid_area": null,
            "grid_auto_columns": null,
            "grid_auto_flow": null,
            "grid_auto_rows": null,
            "grid_column": null,
            "grid_gap": null,
            "grid_row": null,
            "grid_template_areas": null,
            "grid_template_columns": null,
            "grid_template_rows": null,
            "height": null,
            "justify_content": null,
            "justify_items": null,
            "left": null,
            "margin": null,
            "max_height": null,
            "max_width": null,
            "min_height": null,
            "min_width": null,
            "object_fit": null,
            "object_position": null,
            "order": null,
            "overflow": null,
            "overflow_x": null,
            "overflow_y": null,
            "padding": null,
            "right": null,
            "top": null,
            "visibility": null,
            "width": null
          }
        }
      }
    }
  },
  "nbformat": 4,
  "nbformat_minor": 5
}
